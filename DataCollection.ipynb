{
 "cells": [
  {
   "cell_type": "markdown",
   "metadata": {},
   "source": [
    "# Step 1: Collecting Data"
   ]
  },
  {
   "cell_type": "code",
   "execution_count": 21,
   "metadata": {},
   "outputs": [],
   "source": [
    "import pandas as pd\n",
    "import numpy as np\n",
    "import praw\n",
    "import tweepy as tw\n",
    "import datetime"
   ]
  },
  {
   "cell_type": "markdown",
   "metadata": {},
   "source": [
    "### Keywords found using GPT 4 (LLM) from across news articles\n",
    "##### The prompt engineered by us was to select keywords across 50 articles was:\n",
    "##### "
   ]
  },
  {
   "cell_type": "code",
   "execution_count": 8,
   "metadata": {},
   "outputs": [],
   "source": [
    "KeyWords = [\"Armenia\"]"
   ]
  },
  {
   "cell_type": "markdown",
   "metadata": {},
   "source": [
    "##### Can't use Twitter API as it is Paid, $100 per month thanks to Elon Musk :)"
   ]
  },
  {
   "cell_type": "code",
   "execution_count": 12,
   "metadata": {},
   "outputs": [],
   "source": [
    "# Twitter API Credentials\n",
    "API_KEY = 'I0YJ2KCkpX5zMLBsiXWg8oIpm'\n",
    "API_SECRET_KEY = 'B0smJRkFAcX702HTqzk2SjmlOn3ODze5HepNqnv15xprtyLIeO'\n",
    "ACCESS_TOKEN = '1714199019898241024-kc26PuFJ9YOlgQddlxTuvLcRpACqKT'\n",
    "ACCESS_TOKEN_SECRET = '1tPZmQtSvc1IiY5tnUIEFKBS8IuXZoMKU9PdXuSsyLZso'\n",
    "\n",
    "# Authenticate with Tweepy\n",
    "auth = tw.OAuth1UserHandler(\n",
    "    consumer_key=API_KEY,\n",
    "    consumer_secret=API_SECRET_KEY,\n",
    "    access_token=ACCESS_TOKEN,\n",
    "    access_token_secret=ACCESS_TOKEN_SECRET\n",
    ")\n",
    "\n",
    "api = tw.API(auth)"
   ]
  },
  {
   "cell_type": "code",
   "execution_count": null,
   "metadata": {},
   "outputs": [],
   "source": [
    "numberOfTweets = 2\n",
    "tweets = []\n",
    "\n",
    "for tweet in tw.Cursor(api.search_tweets, q=KeyWords, lang=\"en\").items(numberOfTweets):\n",
    "    tweets.append(tweet)"
   ]
  },
  {
   "cell_type": "code",
   "execution_count": null,
   "metadata": {},
   "outputs": [],
   "source": [
    "data = {'Tweet': [], 'Time': []}\n",
    "for tweet in tweets:\n",
    "    data['Tweet'].append(tweet.text)\n",
    "    data['Time'].append(tweet.created_at)\n",
    "\n",
    "df = pd.DataFrame(data)"
   ]
  },
  {
   "cell_type": "markdown",
   "metadata": {},
   "source": [
    "##### Reddit"
   ]
  },
  {
   "cell_type": "code",
   "execution_count": 98,
   "metadata": {},
   "outputs": [],
   "source": [
    "# Reddit App Credentials\n",
    "CLIENT_ID = 'mPppFSzc3O_wFZzkWt61LA'\n",
    "CLIENT_SECRET = 'eObtVXwrmq68OS89P5fWWADOzUWC9w'\n",
    "USER_AGENT = 'web app by /u/Confident-Common3839'\n",
    "\n",
    "# Authenticate with PRAW\n",
    "reddit = praw.Reddit(\n",
    "    client_id=CLIENT_ID,\n",
    "    client_secret=CLIENT_SECRET,\n",
    "    user_agent=USER_AGENT\n",
    ")\n",
    "\n",
    "# Search for posts containing a specific keyword across all of Reddit\n",
    "query = KeyWords\n",
    "numberOfRedditPosts = 1000\n",
    "df_reddit = pd.DataFrame(columns=['Date', 'Topic', 'Sub Topic'])  # Create an empty DataFrame with columns\n",
    "\n",
    "for post in reddit.subreddit('all').search(query, limit=numberOfRedditPosts):\n",
    "    date = datetime.datetime.fromtimestamp(post.created_utc).strftime('%Y-%m-%d')\n",
    "    new_row = pd.DataFrame({'Date': date, 'Topic': post.title, 'Sub Topic': post.selftext}, index=[0])\n",
    "    df_reddit = pd.concat([df_reddit, new_row], ignore_index=True)"
   ]
  },
  {
   "cell_type": "code",
   "execution_count": 99,
   "metadata": {},
   "outputs": [
    {
     "name": "stdout",
     "output_type": "stream",
     "text": [
      "Date         238\n",
      "Topic        238\n",
      "Sub Topic    238\n",
      "dtype: int64\n"
     ]
    },
    {
     "data": {
      "text/html": [
       "<div>\n",
       "<style scoped>\n",
       "    .dataframe tbody tr th:only-of-type {\n",
       "        vertical-align: middle;\n",
       "    }\n",
       "\n",
       "    .dataframe tbody tr th {\n",
       "        vertical-align: top;\n",
       "    }\n",
       "\n",
       "    .dataframe thead th {\n",
       "        text-align: right;\n",
       "    }\n",
       "</style>\n",
       "<table border=\"1\" class=\"dataframe\">\n",
       "  <thead>\n",
       "    <tr style=\"text-align: right;\">\n",
       "      <th></th>\n",
       "      <th>Date</th>\n",
       "      <th>Topic</th>\n",
       "      <th>Sub Topic</th>\n",
       "    </tr>\n",
       "  </thead>\n",
       "  <tbody>\n",
       "    <tr>\n",
       "      <th>0</th>\n",
       "      <td>2023-09-30</td>\n",
       "      <td>Armenia will be invaded if West does not stand...</td>\n",
       "      <td></td>\n",
       "    </tr>\n",
       "    <tr>\n",
       "      <th>1</th>\n",
       "      <td>2023-07-05</td>\n",
       "      <td>Armenia Denied EU Military Aid</td>\n",
       "      <td></td>\n",
       "    </tr>\n",
       "    <tr>\n",
       "      <th>2</th>\n",
       "      <td>2023-09-26</td>\n",
       "      <td>\"Don't believe Armenia\", Azerbaijan(2020)</td>\n",
       "      <td></td>\n",
       "    </tr>\n",
       "    <tr>\n",
       "      <th>3</th>\n",
       "      <td>2023-07-20</td>\n",
       "      <td>Turkophobia in Armenia, situation getting wors...</td>\n",
       "      <td>They attacking them, insulting, damaging prope...</td>\n",
       "    </tr>\n",
       "    <tr>\n",
       "      <th>4</th>\n",
       "      <td>2023-09-19</td>\n",
       "      <td>Map of the recent developments in the Armenia ...</td>\n",
       "      <td></td>\n",
       "    </tr>\n",
       "  </tbody>\n",
       "</table>\n",
       "</div>"
      ],
      "text/plain": [
       "         Date                                              Topic  \\\n",
       "0  2023-09-30  Armenia will be invaded if West does not stand...   \n",
       "1  2023-07-05                     Armenia Denied EU Military Aid   \n",
       "2  2023-09-26          \"Don't believe Armenia\", Azerbaijan(2020)   \n",
       "3  2023-07-20  Turkophobia in Armenia, situation getting wors...   \n",
       "4  2023-09-19  Map of the recent developments in the Armenia ...   \n",
       "\n",
       "                                           Sub Topic  \n",
       "0                                                     \n",
       "1                                                     \n",
       "2                                                     \n",
       "3  They attacking them, insulting, damaging prope...  \n",
       "4                                                     "
      ]
     },
     "execution_count": 99,
     "metadata": {},
     "output_type": "execute_result"
    }
   ],
   "source": [
    "print(df_reddit.count())\n",
    "df_reddit.head(5)"
   ]
  },
  {
   "cell_type": "markdown",
   "metadata": {},
   "source": [
    "##### New York Times"
   ]
  },
  {
   "cell_type": "code",
   "execution_count": 90,
   "metadata": {},
   "outputs": [
    {
     "name": "stdout",
     "output_type": "stream",
     "text": [
      "Armenia: Cast Adrift in a Tough Neighborhood\n",
      "https://www.nytimes.com/2023/09/29/world/europe/armenia-azerbaijan-nagorno-karabakh.html\n",
      "2023-09-29\n",
      "Azerbaijan Attacks Armenian Enclave of Nagorno-Karabakh\n",
      "https://www.nytimes.com/video/world/asia/100000009094569/azerbaijan-armenia-nagorno-karabakh.html\n",
      "2023-09-20\n",
      "After Surrender in Nagorno-Karabakh, Leaders Discuss Armenians’ Fate\n",
      "https://www.nytimes.com/2023/09/21/world/europe/armenia-azerbaijan-nagorno-karabakh.html\n",
      "2023-09-21\n",
      "Azerbaijan Reclaims Armenian Enclave, Shifting Region’s Political Dynamics\n",
      "https://www.nytimes.com/2023/09/20/world/europe/azerbaijan-armenia-cease-fire.html\n",
      "2023-09-20\n",
      "Refugees Flee to Armenia as Breakaway Enclave Comes Under Azerbaijan’s Control\n",
      "https://www.nytimes.com/2023/09/24/world/europe/armenians-nagorno-karabakh-azerbaijan.html\n",
      "2023-09-24\n",
      "Haley Hits Trump and Ramaswamy Over Israel Remarks: ‘That’s Not What We Need’\n",
      "https://www.nytimes.com/2023/10/13/us/politics/nikki-haley-trump-ramaswamy-israel.html\n",
      "2023-10-13\n",
      "We Just Saw What the World Is About to Become\n",
      "https://www.nytimes.com/2023/10/09/opinion/nagorno-karabakh-russia-turkey.html\n",
      "2023-10-09\n",
      "As Armenia and Azerbaijan Clash, Russia Is a Distracted Spectator\n",
      "https://www.nytimes.com/2023/09/21/world/europe/russia-armenia-azerbaijan-karabakh.html\n",
      "2023-09-21\n",
      "Azerbaijan Begins a Military Operation in Nagorno-Karabakh\n",
      "https://www.nytimes.com/2023/09/19/world/europe/azerbaijan-military-nagorno-karabakh.html\n",
      "2023-09-19\n",
      "Nagorno-Karabakh Government Says It Will Disband\n",
      "https://www.nytimes.com/2023/09/28/world/europe/nagorno-karabakh-government.html\n",
      "2023-09-28\n",
      "Friday Briefing: New Trouble for China Evergrande\n",
      "https://www.nytimes.com/2023/09/28/briefing/china-evergrande-nagorno-karabakh-india-sikh.html\n",
      "2023-09-28\n",
      "A Stunningly Sudden End to a Long, Bloody Conflict in the Caucasus\n",
      "https://www.nytimes.com/2023/09/27/world/europe/nagorno-karabakh-armenia-azerbaijan.html\n",
      "2023-09-27\n",
      "Death Toll Rises After Explosion at Nagorno-Karabakh Fuel Depot\n",
      "https://www.nytimes.com/2023/09/26/world/europe/azerbaijan-nagorno-karabakh-explosion.html\n",
      "2023-09-26\n",
      "Hundreds Injured in Fuel Depot Explosion in Nagorno-Karabakh\n",
      "https://www.nytimes.com/video/world/asia/100000009103248/nagorno-karabakh-explosion-armenia-azerbaijan.html\n",
      "2023-09-26\n",
      "Hundreds Injured After Fuel Depot Blast in Nagorno-Karabakh, Official Says\n",
      "https://www.nytimes.com/2023/09/25/world/europe/azerbaijan-nagorno-karabakh-explosion.html\n",
      "2023-09-25\n",
      "Fears and Chaos Grow in Nagorno-Karabakh After Takeover\n",
      "https://www.nytimes.com/2023/09/23/world/europe/fears-armenians-nagorno-karabakh-azerbaijan.html\n",
      "2023-09-23\n",
      "Today’s Top News: McCarthy Won’t Host Forum for Zelensky, and More\n",
      "https://www.nytimes.com/2023/09/21/podcasts/headlines-nyt-audio-app.html\n",
      "2023-09-21\n",
      "Thursday Briefing: Climate and Ukraine at the U.N.\n",
      "https://www.nytimes.com/2023/09/20/briefing/un-climate-zelensky-ukraine-nagorno-karabakh.html\n",
      "2023-09-20\n",
      "Another Ethnic Cleansing Could Be Underway — and We’re Not Paying Attention\n",
      "https://www.nytimes.com/2023/09/02/opinion/armenia-azerbaijan-nagorno-karabakh.html\n",
      "2023-09-02\n",
      "‘Aurora’s Sunrise’ Review: A Patchwork Record of the Armenian Genocide\n",
      "https://www.nytimes.com/2023/08/10/movies/auroras-sunrise-review.html\n",
      "2023-08-10\n",
      "How Russia’s Rich Get Their Luxuries Now\n",
      "https://www.nytimes.com/2023/05/11/world/europe/dubai-russia-cars-export.html\n",
      "2023-05-11\n",
      "Armenia\n",
      "https://www.nytimes.com/2004/07/15/travel/armenia.html\n",
      "2004-07-15\n",
      "Would Armenians Fire on Armenians?\n",
      "https://www.nytimes.com/1990/01/22/opinion/would-armenians-fire-on-armenians.html\n",
      "1990-01-22\n",
      "Demonstrations in Armenia\n",
      "https://www.nytimes.com/slideshow/2008/03/03/world/20080303ARMENIA_index.html\n",
      "2008-03-04\n",
      "This Armenian Life\n",
      "https://www.nytimes.com/2013/07/28/magazine/this-armenian-life.html\n",
      "2013-07-24\n",
      "Waiting for Armenia\n",
      "https://www.nytimes.com/2010/09/22/opinion/22iht-edhovannisian.html\n",
      "2010-09-21\n",
      "Speaking Not as an Armenian…\n",
      "https://kristof.blogs.nytimes.com/2010/03/05/speaking-not-as-an-armenian/\n",
      "2010-03-05\n",
      "Armenia's Tragedy\n",
      "https://www.nytimes.com/1999/10/30/opinion/armenia-s-tragedy.html\n",
      "1999-10-30\n",
      "Armenian in Istanbul\n",
      "https://www.nytimes.com/2007/01/21/books/review/Adams.t.html\n",
      "2007-01-21\n",
      "Rich Armenia vs. Poor Armenia in Presidential Election\n",
      "https://www.nytimes.com/2003/02/19/world/rich-armenia-vs-poor-armenia-in-presidential-election.html\n",
      "2003-02-19\n",
      "Armenians Celebrate Their Letters\n",
      "https://www.nytimes.com/2005/12/13/nyregion/armenians-celebrate-their-letters.html\n",
      "2005-12-13\n",
      "The Kardashians Show Support for Armenia\n",
      "https://www.nytimes.com/2015/04/14/travel/the-kardashians-show-support-for-armenia.html\n",
      "2015-04-13\n",
      "Armenia's Turmoil\n",
      "https://www.nytimes.com/1998/02/09/opinion/armenia-s-turmoil.html\n",
      "1998-02-09\n",
      "Imagining Armenia\n",
      "https://www.nytimes.com/2003/06/15/books/imagining-armenia.html\n",
      "2003-06-15\n",
      "Survivors of the Armenian Genocide\n",
      "https://lens.blogs.nytimes.com/2016/04/21/survivors-of-the-armenian-genocide/\n",
      "2016-04-21\n",
      "How Much Do You Know About Armenia?\n",
      "https://www.nytimes.com/interactive/2023/03/14/learning/ArmeniaCountryQuiz.html\n",
      "2023-03-14\n",
      "The Daughters of Armenia\n",
      "https://www.nytimes.com/1994/04/24/books/the-daughters-of-armenia.html\n",
      "1994-04-24\n",
      "Survivors of the Armenian Genocide\n",
      "https://www.nytimes.com/slideshow/2016/04/21/blogs/survivors-of-the-armenian-genocide.html\n",
      "2016-04-21\n",
      "Asking About Armenia\n",
      "https://learning.blogs.nytimes.com/2006/04/19/asking-about-armenia/\n",
      "2006-04-19\n",
      "Remembering the Armenian Genocide\n",
      "https://www.nytimes.com/interactive/2015/04/23/world/europe/armenia-readers-stories.html\n",
      "2015-04-24\n",
      "Showcase: The Ghosts of Armenia\n",
      "https://lens.blogs.nytimes.com/2009/05/28/blogs/28lens-showcase1903.html\n",
      "2009-05-28\n",
      "The Key to Armenia's Survival\n",
      "https://www.nytimes.com/2012/02/24/arts/24iht-conway24.html\n",
      "2012-02-23\n",
      "An Armenian Hero at the Garden\n",
      "https://cityroom.blogs.nytimes.com/2015/03/03/an-armenian-hero-at-the-garden/\n",
      "2015-03-03\n",
      "The Slaughter of the Armenians\n",
      "https://www.nytimes.com/1993/04/25/books/the-slaughter-of-the-armenians.html\n",
      "1993-04-25\n",
      "Dance: Armenians Present Armenians\n",
      "https://www.nytimes.com/1974/06/22/archives/dance-armenians-present-armenians.html\n",
      "1974-06-22\n",
      "An Armenian Christmas Surprise\n",
      "https://cityroom.blogs.nytimes.com/2013/12/25/an-armenian-christmas-surprise/\n",
      "2013-12-25\n",
      "Turkey and Armenia to Establish Diplomatic Ties\n",
      "https://www.nytimes.com/2009/09/01/world/europe/01armenia.html\n",
      "2009-08-31\n",
      "Turkey, Armenia and Denial\n",
      "https://www.nytimes.com/2006/05/16/opinion/turkey-armenia-and-denial.html\n",
      "2006-05-16\n",
      "Turkey, Armenia and Denial\n",
      "https://www.nytimes.com/2006/05/16/opinion/16tue3.html\n",
      "2006-05-16\n",
      "Denying the Armenian genocide\n",
      "https://www.nytimes.com/2007/08/23/opinion/23iht-edjacoby.1.7227486.html\n",
      "2007-08-23\n",
      "Error 429: Unable to fetch data from The New York Times API\n",
      "Error 429: Unable to fetch data from The New York Times API\n",
      "Error 429: Unable to fetch data from The New York Times API\n",
      "Error 429: Unable to fetch data from The New York Times API\n",
      "Error 429: Unable to fetch data from The New York Times API\n"
     ]
    }
   ],
   "source": [
    "import requests\n",
    "\n",
    "# NYT API Key\n",
    "API_KEY = '9NUbrFPCCZLBA292z2H4IGSJprHb7AGT'\n",
    "\n",
    "# Base URL for Article Search API\n",
    "BASE_URL = \"https://api.nytimes.com/svc/search/v2/articlesearch.json\"\n",
    "\n",
    "df_NYT = pd.DataFrame(columns=['Date', 'Topic'])  # Create an empty DataFrame with columns\n",
    "\n",
    "\n",
    "for i in range(0, 10): #scrape 10 pages\n",
    "    params = {\n",
    "    'q': KeyWords,  # Search terms\n",
    "    'api-key': API_KEY,\n",
    "    'page': i }\n",
    "    response = requests.get(BASE_URL, params=params)\n",
    "\n",
    "    # Check if the request was successful\n",
    "    if response.status_code == 200:\n",
    "        docs = response.json().get('response').get('docs')\n",
    "        for doc in docs:\n",
    "            print(doc['headline']['main'])  # Print the headline of the article\n",
    "            print(doc['web_url'])           # Print the URL of the article\n",
    "            # print(doc['pub_date'])          Print the publish date of the article\n",
    "            #convert the date to a date only format\n",
    "            date = datetime.datetime.strptime(doc['pub_date'], '%Y-%m-%dT%H:%M:%S%z').strftime('%Y-%m-%d')\n",
    "            print(date)\n",
    "            #Append to the dataframe\n",
    "            new_row = pd.DataFrame({'Date': [date], 'Topic': [doc['headline']['main']]})\n",
    "            df_NYT = pd.concat([df_NYT, new_row], ignore_index=True)\n",
    "    else:\n",
    "        print(f\"Error {response.status_code}: Unable to fetch data from The New York Times API\")"
   ]
  },
  {
   "cell_type": "code",
   "execution_count": 94,
   "metadata": {},
   "outputs": [
    {
     "name": "stdout",
     "output_type": "stream",
     "text": [
      "Date     50\n",
      "Topic    50\n",
      "dtype: int64\n"
     ]
    },
    {
     "data": {
      "text/html": [
       "<div>\n",
       "<style scoped>\n",
       "    .dataframe tbody tr th:only-of-type {\n",
       "        vertical-align: middle;\n",
       "    }\n",
       "\n",
       "    .dataframe tbody tr th {\n",
       "        vertical-align: top;\n",
       "    }\n",
       "\n",
       "    .dataframe thead th {\n",
       "        text-align: right;\n",
       "    }\n",
       "</style>\n",
       "<table border=\"1\" class=\"dataframe\">\n",
       "  <thead>\n",
       "    <tr style=\"text-align: right;\">\n",
       "      <th></th>\n",
       "      <th>Date</th>\n",
       "      <th>Topic</th>\n",
       "    </tr>\n",
       "  </thead>\n",
       "  <tbody>\n",
       "    <tr>\n",
       "      <th>0</th>\n",
       "      <td>2023-09-29</td>\n",
       "      <td>Armenia: Cast Adrift in a Tough Neighborhood</td>\n",
       "    </tr>\n",
       "    <tr>\n",
       "      <th>1</th>\n",
       "      <td>2023-09-20</td>\n",
       "      <td>Azerbaijan Attacks Armenian Enclave of Nagorno...</td>\n",
       "    </tr>\n",
       "    <tr>\n",
       "      <th>2</th>\n",
       "      <td>2023-09-21</td>\n",
       "      <td>After Surrender in Nagorno-Karabakh, Leaders D...</td>\n",
       "    </tr>\n",
       "    <tr>\n",
       "      <th>3</th>\n",
       "      <td>2023-09-20</td>\n",
       "      <td>Azerbaijan Reclaims Armenian Enclave, Shifting...</td>\n",
       "    </tr>\n",
       "    <tr>\n",
       "      <th>4</th>\n",
       "      <td>2023-09-24</td>\n",
       "      <td>Refugees Flee to Armenia as Breakaway Enclave ...</td>\n",
       "    </tr>\n",
       "  </tbody>\n",
       "</table>\n",
       "</div>"
      ],
      "text/plain": [
       "         Date                                              Topic\n",
       "0  2023-09-29       Armenia: Cast Adrift in a Tough Neighborhood\n",
       "1  2023-09-20  Azerbaijan Attacks Armenian Enclave of Nagorno...\n",
       "2  2023-09-21  After Surrender in Nagorno-Karabakh, Leaders D...\n",
       "3  2023-09-20  Azerbaijan Reclaims Armenian Enclave, Shifting...\n",
       "4  2023-09-24  Refugees Flee to Armenia as Breakaway Enclave ..."
      ]
     },
     "execution_count": 94,
     "metadata": {},
     "output_type": "execute_result"
    }
   ],
   "source": [
    "print(df_NYT.count())\n",
    "df_NYT.head(5)"
   ]
  },
  {
   "cell_type": "markdown",
   "metadata": {},
   "source": [
    "##### Using LLMs to detect if related enough to our topic"
   ]
  },
  {
   "cell_type": "code",
   "execution_count": null,
   "metadata": {},
   "outputs": [],
   "source": [
    "# We will use meta llama 2 - 70b to detect if the topic in the data frame is related to Armenia Conflict/war with Azerbaijan\n"
   ]
  }
 ],
 "metadata": {
  "kernelspec": {
   "display_name": "Python 3.9.6 64-bit",
   "language": "python",
   "name": "python3"
  },
  "language_info": {
   "codemirror_mode": {
    "name": "ipython",
    "version": 3
   },
   "file_extension": ".py",
   "mimetype": "text/x-python",
   "name": "python",
   "nbconvert_exporter": "python",
   "pygments_lexer": "ipython3",
   "version": "3.9.6"
  },
  "orig_nbformat": 4,
  "vscode": {
   "interpreter": {
    "hash": "31f2aee4e71d21fbe5cf8b01ff0e069b9275f58929596ceb00d14d90e3e16cd6"
   }
  }
 },
 "nbformat": 4,
 "nbformat_minor": 2
}
